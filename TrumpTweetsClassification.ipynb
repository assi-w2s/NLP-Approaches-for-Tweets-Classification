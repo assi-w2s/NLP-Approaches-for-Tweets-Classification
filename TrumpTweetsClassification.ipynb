{
  "cells": [
    {
      "cell_type": "code",
      "execution_count": null,
      "metadata": {
        "colab": {
          "base_uri": "https://localhost:8080/"
        },
        "id": "5EzBXsp2cKrI",
        "outputId": "15c95ea2-1132-4fe7-f62f-cd513a190e78"
      },
      "outputs": [
        {
          "output_type": "stream",
          "name": "stdout",
          "text": [
            "Mounted at /content/drive\n"
          ]
        }
      ],
      "source": [
        "from google.colab import drive\n",
        "drive.mount('/content/drive', force_remount=True)"
      ]
    },
    {
      "cell_type": "code",
      "execution_count": null,
      "metadata": {
        "id": "SMrsoeyVcRj4"
      },
      "outputs": [],
      "source": [
        "import numpy as np\n",
        "import pandas as pd\n",
        "import seaborn as sns\n",
        "\n",
        "# path = '/content/drive/MyDrive/Thesis/home/shamiras/data/input/NRC-Emotion-Lexicon-v0.92-EnOnly.csv'\n",
        "# path = './NRC-Emotion-Lexicon-v0.92-EnOnly.csv'\n",
        "# em_lex = pd.read_csv(path)\n",
        "# em_lex_list = list(em_lex[(em_lex['Positive'] == 1)]['English (en)'].values)"
      ]
    },
    {
      "cell_type": "code",
      "execution_count": null,
      "metadata": {
        "id": "wJWpHIOQjsca"
      },
      "outputs": [],
      "source": [
        "def normalize_text(text):  # this is not a class method\n",
        "    \"\"\"Returns a normalized version of the specified string.\n",
        "      Args:\n",
        "        text (str): the text to normalize\n",
        "\n",
        "      Returns:\n",
        "        string. the normalized text.\n",
        "    \"\"\"\n",
        "    text = text.lower()\n",
        "    # text = text.replace(\"*\", \"\")\n",
        "    replacement_dict = {\n",
        "        r\"\\t\\d{4}-\\d{2}-\\d{2}\\s\\d{2}:\\d{2}(:\\d{2})*\\tandroid\\n\\d+\\t\\w+\\t\": \" androidtimestamp \",  \n",
        "        r\"\\n|\\t\": \" \",\n",
        "        r\"http.+?(\\\\t|\\s)\": \" URL \",  \n",
        "        r\"@\\w+(.*?)\\s\": \"@accountname\\1 \",\n",
        "        r\"#\\w+?(\\s|\\\\t)\": \" #hashtag \",\n",
        "        r\"&amp;\": \" and \",\n",
        "        r\"\\\"\": \"\",\n",
        "        r\"[():]\": \" , \",\n",
        "        r\";\": \" . \",  \n",
        "        # r\"\\\\\\\\\\\"|\\\"\\\\\\\\|\\\\\\\\|\\\\\\s+\\\\\": \"\",  # for obama speeches\n",
        "        # r\"´|…\": \"\",\n",
        "        r\"$\\d+\": \"$money\",  # normalizing all money mentions to a single amount $SomeMoney\n",
        "        r\"(?i)\\d{1,}:\\d{2}(\\s?)(a(\\.?)m|p(\\.?)m)\": \"hh:mm\", # another option - \\s\\d{2}(.|:|-){1}\\d{2}((.|:|-)\\d{2}?)\n",
        "        r\"\\d{2}(.|:|-){1}\\d{2}\": \"dd-mm\",  # normalizing dates\n",
        "        r\"(1\\d{3})|(2\\d{3})\": \"someyear\",  # normalizing dates\n",
        "        r\"\\d+\": \"number\",  # normalizing numbers\n",
        "        r\"([.,!?()])\": r\" \\1 \",  # padding after .,!?()\n",
        "        r\"\\s*&mdash\\s*\": \" \",  # removing long dash characters\n",
        "        r\"(\\s*\\.+)+\": \" . \",  # replacing each multiple '. . .' patterns with single ' . ' for simplicity\n",
        "        r\"\\s{2,}\": \" \",  # removing extra spaces\n",
        "        r\"(?i)january|february|march|april|may|june|july|august|september|october|november|december\": \"somemonth\",\n",
        "        r\"(?i)sunday|monday|tuesday|wednesday|thursday|friday|saturday\": \"someday\"\n",
        "    }\n",
        "\n",
        "    for k, v in replacement_dict.items():\n",
        "        text = re.sub(k, v, text)\n",
        "\n",
        "    return text"
      ]
    },
    {
      "cell_type": "code",
      "execution_count": null,
      "metadata": {
        "id": "WPRBPjz4cI7O"
      },
      "outputs": [],
      "source": [
        "import pandas as pd\n",
        "import numpy as np\n",
        "import seaborn as sns\n",
        "import matplotlib.pyplot as plt\n",
        "# %matplotlib inline\n",
        "import re\n",
        "import pickle\n",
        "\n",
        "from sklearn.model_selection import cross_val_score, RandomizedSearchCV, train_test_split, GridSearchCV\n",
        "from sklearn.metrics import classification_report, confusion_matrix\n",
        "from sklearn.preprocessing import StandardScaler\n",
        "from sklearn.svm import SVC\n",
        "from sklearn.ensemble import GradientBoostingClassifier, RandomForestClassifier\n",
        "from sklearn.linear_model import LogisticRegression\n",
        "from datetime import datetime\n",
        "from copy import deepcopy\n",
        "\n",
        "from torch import sigmoid, relu, no_grad\n",
        "from torch import nn, optim, tensor\n",
        "import torch.nn.functional as F\n",
        "from torch.utils.data import DataLoader, TensorDataset\n",
        "from torch import load, save\n",
        "\n",
        "TRAIN_PATH = './trump_train.tsv'\n",
        "TEST_PATH = './trump_test.tsv'\n",
        "\n",
        "# # if running in colab:\n",
        "# TRAIN_PATH = '/content/drive/MyDrive/MSc/nlp/trump_train.tsv'\n",
        "# TEST_PATH = '/content/drive/MyDrive/MSc/nlp/trump_test.tsv'\n",
        "\n",
        "def load_best_model(file_name='./best_model_lstm'):\n",
        "    '''Returns best performing model'''\n",
        "    \n",
        "    model = my_lstm(input_dim=100, hidden_size=30, batch_first=True,\n",
        "                 num_layers=1, bidirectional=True)\n",
        "    model.load_state_dict(load(file_name))\n",
        "    return model\n",
        "\n",
        "def train_best_model():\n",
        "  '''Trains the best model from scratch'''\n",
        "  # Preprocess df and prepare the dataframe\n",
        "  TRAIN_PATH = './trump_train.tsv'\n",
        "  df = preprocess(TRAIN_PATH, test=False)\n",
        "\n",
        "  # Padding sequences\n",
        "  X = nn.utils.rnn.pad_sequence(tuple(df['w2v_embedding_lstm_cut'].values), batch_first=True)\n",
        "  y = df['label'].values\n",
        "\n",
        "  # train-validation splitting\n",
        "  test_size=0.3\n",
        "  threshold_index = int((1-test_size) * X.shape[0])\n",
        "  train, valid = X[:threshold_index], X[threshold_index:]\n",
        "  target_train, target_valid = y[:threshold_index].astype(np.float32), y[threshold_index:].astype(np.float32)\n",
        "\n",
        "  # convert to tensor and reshaping\n",
        "  train, target_train, valid, target_valid = map(tensor, (train, target_train, valid, target_valid))\n",
        "\n",
        "  # prepare DataLoaders\n",
        "  train_ds = TensorDataset(train, target_train.reshape(-1,1))\n",
        "  valid_ds = TensorDataset(valid, target_valid.reshape(-1,1))\n",
        "  train_dl = DataLoader(train_ds, batch_size=64, shuffle=True)\n",
        "  valid_dl = DataLoader(valid_ds, batch_size=64 * 2)\n",
        "\n",
        "  # build and train model\n",
        "  mylstm = my_lstm(train.shape[-1], hidden_size=30, batch_first=True,\n",
        "                  num_layers=1, bidirectional=True)\n",
        "\n",
        "  opt = optim.Adam(mylstm.parameters())\n",
        "  loss_func = F.binary_cross_entropy\n",
        "  epochs = 40\n",
        "  fit(epochs, mylstm, loss_func, opt, train_dl, valid_dl, return_best=True)\n",
        "  return mylstm\n",
        "\n",
        "def predict(m, fn):\n",
        "    '''Returns a list of 0s (trump's tweet) and 1s (staffer's tweet)\n",
        "\n",
        "    Args:\n",
        "        m (classification model): classification model for trump's/staffer's tweets\n",
        "        fn (str): full path to a test file (containing tweets for model-prediction)\n",
        "\n",
        "    Returns:\n",
        "        predictions (List): pythons' list of predictions (0s correspond to trump's tweet and 1s to staffer's tweet)\n",
        "    '''\n",
        "    # load data and process\n",
        "    test = preprocess(fn, test=True)\n",
        "\n",
        "    # Padding sequences\n",
        "    X_test = nn.utils.rnn.pad_sequence(tuple(test['w2v_embedding_lstm_cut'].values), batch_first=True)\n",
        "\n",
        "    pred = m(X_test)\n",
        "    pred = pred.flatten().detach().tolist()\n",
        "    pred = list(map(int, np.round(pred)))\n",
        "\n",
        "    return pred\n",
        "\n",
        "def tweet2vec(t, model, mean=True):\n",
        "  '''\n",
        "  convert text to sequence of vectors or one averaged vector by word2vec.\n",
        "  if mean is True return the average vector. else, return sequence of vectors.\n",
        "  '''\n",
        "  vectors = []\n",
        "  for w in t.split():\n",
        "    try:\n",
        "      vectors.append(model[w])\n",
        "    except:\n",
        "      continue\n",
        "  if mean:\n",
        "    return np.mean(vectors, axis=0)\n",
        "  else:\n",
        "    return np.asarray(vectors)\n",
        "\n",
        "\n",
        "def load_w2v_model(path = './w2v_model.txt'):\n",
        "  with open(path, 'r') as f:\n",
        "    lines = f.readlines()\n",
        "\n",
        "  w2v_model = {l.split()[0]: [float(v) for v in l.split()[1:]] for l in lines[1:]}\n",
        "\n",
        "  return w2v_model\n",
        "\n",
        "def preprocess(fp, test=False):\n",
        "    if test:\n",
        "        df = pd.read_csv(fp, names=['handle', 'text', 'timestamp'], sep='\\\\t')\n",
        "    else:\n",
        "        df = pd.read_csv(fp, names=['tweet_id', 'handle', 'text', 'timestamp', 'device'], sep='\\\\t')\n",
        "        # df['label'] = df.apply(lambda r: 0 if (r['device'] in ['android']) else 1, axis=1)\n",
        "        df['label'] = df.apply(lambda r: 1 if (r['device'] in ['iphone']) else 0, axis=1)\n",
        "        df.drop(columns=['tweet_id', 'device'], inplace=True)\n",
        "\n",
        "    df.dropna(inplace=True)\n",
        "    df['norm_text'] = df['text'].apply(lambda t: normalize_text(t))\n",
        "    df['timestamp'] = df['timestamp'].apply(lambda ts: datetime.strptime(ts, \"%Y-%m-%d %H:%M:%S\"))\n",
        "    df['cap_letters'] = df['text'].apply(lambda t: len([l for w in t.split() for l in w if l.isupper()])) # both cap_words and cap_words_normalized are not indicative, only result from len(tweet)\n",
        "    df['cap_letters_norm'] = df['text'].apply(lambda t: len([l for w in t.split() for l in w if l.isupper()]) / len(t.split())) # both cap_words and cap_words_normalized are not indicative, only result from len(tweet)\n",
        "    df['cap_words_normalized'] = df['text'].apply(lambda t: len([w for w in t.split() if w[0].isupper()]) / len(t.split()))\n",
        "    df['num_!'] = df['text'].apply(lambda t: len([w for w in t.split() if '!' in w]))\n",
        "    df['!_exists'] = df['text'].apply(lambda t: '!' in t)\n",
        "    df['num_allcaps'] = df['text'].apply(lambda t: len([w for w in t.split() if w.isupper()]))\n",
        "    df['allcaps_exist'] = df['text'].apply(lambda t: len([w for w in t.split() if w.isupper()]) > 0)\n",
        "    df['len'] = df['norm_text'].apply(lambda t: len(t.split()))\n",
        "    # df['time'] = df['timestamp'].apply(lambda t: t.time())\n",
        "    df['time_idx'] = df['timestamp'].apply(lambda t: t.time().hour + t.time().minute / 60)\n",
        "    df['num_@'] = df['text'].apply(lambda t: len([w for w in t.lower().split() if '@' in w]))\n",
        "    # df['positive_words'] = df['norm_text'].apply(lambda t: len([w for w in t.split() if w in em_lex_list]))\n",
        "    df['fake'] = df['text'].apply(lambda t: 'fake' in t.lower())\n",
        "    df['count_fake'] = df['text'].apply(lambda t: len([w for w in t.split() if 'fake' in w.lower()]))\n",
        "    df['dayofweek'] = df.timestamp.apply(lambda x: x.dayofweek)\n",
        "    df['hour'] = df.timestamp.apply(lambda x: x.hour)\n",
        "\n",
        "    # word2vec features\n",
        "    w2v_model = load_w2v_model()\n",
        "    df['w2v_embedding']      = df['norm_text'].apply(lambda t: tweet2vec(t, w2v_model))\n",
        "    df['w2v_embedding_lstm'] = df['norm_text'].apply(lambda t: tweet2vec(t, w2v_model, mean=False))\n",
        "\n",
        "    # cut all long tweets and convert to tensors\n",
        "    cut_len_tweet = 55 # defined max len of sequence\n",
        "    df['w2v_embedding_lstm_cut'] = df['w2v_embedding_lstm'].apply(lambda x: tensor(x[:cut_len_tweet].astype(np.float32)))\n",
        "    \n",
        "    # normalize\n",
        "    for c in ['num_!', 'len', 'time_idx', 'num_@', 'count_fake', 'cap_words_normalized', 'cap_letters_norm', 'cap_letters',\n",
        "              'num_allcaps', 'dayofweek', 'hour']: #'positive_words',\n",
        "      mx = np.max(df[c])\n",
        "      mn = np.min(df[c])\n",
        "      rng = mx - mn\n",
        "      df[c] = df[c].apply(lambda v: (v - mn) / rng)\n",
        "\n",
        "    features = ['num_!','len', 'time_idx', 'num_@', 'count_fake', 'fake', 'num_allcaps', 'cap_words_normalized', 'cap_letters_norm','cap_letters', 'dayofweek', 'hour']#, 'positive_words'\n",
        "    df['all_features'] = df.apply(lambda r: np.append(arr=r['w2v_embedding'], values=r[features].values.tolist()), axis=1).drop(columns=\"temp_features\")\n",
        "\n",
        "    return df\n",
        "\n",
        "def normalize_text(text):  # this is not a class method\n",
        "    \"\"\"Returns a normalized version of the specified string.\n",
        "      Args:\n",
        "        text (str): the text to normalize\n",
        "\n",
        "      Returns:\n",
        "        string. the normalized text.\n",
        "    \"\"\"\n",
        "    text = text.lower()\n",
        "    # text = text.replace(\"*\", \"\")\n",
        "    replacement_dict = {\n",
        "        r\"\\t\\d{4}-\\d{2}-\\d{2}\\s\\d{2}:\\d{2}(:\\d{2})*\\tandroid\\n\\d+\\t\\w+\\t\": \" androidtimestamp \",  \n",
        "        r\"\\n|\\t\": \" \",\n",
        "        r\"http.+?(\\\\t|\\s)\": \" URL \",  \n",
        "        r\"@\\w+(.*?)\\s\": \"@accountname\\1 \",\n",
        "        r\"#\\w+?(\\s|\\\\t)\": \" #hashtag \",\n",
        "        r\"&amp;\": \" and \",\n",
        "        r\"\\\"\": \"\",\n",
        "        r\"[():]\": \" , \",\n",
        "        r\";\": \" . \",  \n",
        "        # r\"\\\\\\\\\\\"|\\\"\\\\\\\\|\\\\\\\\|\\\\\\s+\\\\\": \"\",  # for obama speeches\n",
        "        # r\"´|…\": \"\",\n",
        "        r\"$\\d+\": \"$money\",  # normalizing all money mentions to a single amount $SomeMoney\n",
        "        r\"(?i)\\d{1,}:\\d{2}(\\s?)(a(\\.?)m|p(\\.?)m)\": \"hh:mm\", # another option - \\s\\d{2}(.|:|-){1}\\d{2}((.|:|-)\\d{2}?)\n",
        "        r\"\\d{2}(.|:|-){1}\\d{2}\": \"dd-mm\",  # normalizing dates\n",
        "        r\"(1\\d{3})|(2\\d{3})\": \"someyear\",  # normalizing dates\n",
        "        r\"\\d+\": \"number\",  # normalizing numbers\n",
        "        r\"([.,!?()])\": r\" \\1 \",  # padding after .,!?()\n",
        "        r\"\\s*&mdash\\s*\": \" \",  # removing long dash characters\n",
        "        r\"(\\s*\\.+)+\": \" . \",  # replacing each multiple '. . .' patterns with single ' . ' for simplicity\n",
        "        r\"\\s{2,}\": \" \",  # removing extra spaces\n",
        "        r\"(?i)january|february|march|april|may|june|july|august|september|october|november|december\": \"somemonth\",\n",
        "        r\"(?i)sunday|monday|tuesday|wednesday|thursday|friday|saturday\": \"someday\"\n",
        "    }\n",
        "\n",
        "    for k, v in replacement_dict.items():\n",
        "        text = re.sub(k, v, text)\n",
        "\n",
        "    return text\n",
        "\n",
        "# fit model with the defined hyper parameters\n",
        "def fit(epochs, model, loss_func, opt, train_dl, valid_dl, return_best=False):\n",
        "    best_model, loss_min = deepcopy(model), np.inf\n",
        "    for epoch in range(epochs):\n",
        "        model.train()\n",
        "        for xb, yb in train_dl:\n",
        "            loss_batch(model, loss_func, xb, yb, opt)\n",
        "\n",
        "        model.eval()\n",
        "        with no_grad():\n",
        "            losses, nums = zip(\n",
        "                *[loss_batch(model, loss_func, xb, yb) for xb, yb in valid_dl])\n",
        "        val_loss = np.sum(np.multiply(losses, nums)) / np.sum(nums)\n",
        "        if val_loss < loss_min:\n",
        "          # save model state\n",
        "          save(model.state_dict(), './best_model_tmp')\n",
        "          loss_min = val_loss\n",
        "        # print(epoch, val_loss)\n",
        "    if return_best:\n",
        "      model.load_state_dict(load('./best_model_tmp'))   \n",
        "\n",
        "# calculate loss of specific batch, with defined loss function and optimizer\n",
        "def loss_batch(model, loss_func, xb, yb, opt=None):\n",
        "    loss = loss_func(model(xb), yb)\n",
        "\n",
        "    if opt is not None:\n",
        "        loss.backward()\n",
        "        opt.step()\n",
        "        opt.zero_grad()\n",
        "\n",
        "    return loss.item(), len(xb)\n",
        "\n",
        "# define LSTM model class\n",
        "class my_lstm(nn.Module):\n",
        "  def __init__(self, input_dim, hidden_size, num_layers=1, bidirectional=False,\n",
        "              batch_first=True):\n",
        "    super().__init__()\n",
        "    self.lstm = nn.LSTM(input_dim, hidden_size, num_layers,\n",
        "                        bidirectional=bidirectional, batch_first=batch_first)\n",
        "    self.lin1 = nn.Linear(hidden_size * (1+int(bidirectional)), int(hidden_size * 0.6))\n",
        "    self.lin2 = nn.Linear(int(hidden_size * 0.6) , 1)\n",
        "  \n",
        "  def forward(self, x):\n",
        "    x = relu(self.lstm(x)[0][:,-1,:])\n",
        "    x = relu(self.lin1(x))\n",
        "    x = sigmoid(self.lin2(x))\n",
        "    return x"
      ]
    },
    {
      "cell_type": "code",
      "execution_count": null,
      "metadata": {
        "id": "7zq0U5Ml_QEL"
      },
      "outputs": [],
      "source": [
        "def get_array_features(df, multi_cols=[], uni_cols=[]):\n",
        "  '''\n",
        "  take from df columns that contain lists\\arrays, and regular columns that contain uni-value, and merged all to one 2-d numpy array.\n",
        "  the parameters defined which features to take (might be just the columns that contain arrays, or the regular columns)\n",
        "  Args:\n",
        "    df - DataFrame with the columns\n",
        "    multi_cols - list of columns names that contain arrays etc.\n",
        "    uni_cols   - list of columns names that contain uni values.\n",
        "  '''\n",
        "  # convert all uni-cols to array\n",
        "  if len(uni_cols) > 0:\n",
        "    uni_features = df[uni_cols].values\n",
        "  else:\n",
        "    uni_features = np.array([]).reshape(len(df),0)\n",
        "\n",
        "  # convert all multi-cols to array\n",
        "  if len(multi_cols) > 0:\n",
        "    multi_features = np.array(df[multi_cols[0]].tolist())\n",
        "    if len(multi_cols[1:]) > 0:\n",
        "      for col in multi_cols[1:]:\n",
        "        multi_features = np.hstack((multi_features, np.array(df[col].tolist())))\n",
        "  else:\n",
        "    multi_features = np.array([]).reshape(len(df),0)\n",
        "  \n",
        "  # merge all arrays (uni & multi)\n",
        "  return np.hstack((uni_features, multi_features))"
      ]
    },
    {
      "cell_type": "code",
      "source": [
        "df = preprocess(TRAIN_PATH, test=False)\n",
        "df.head()"
      ],
      "metadata": {
        "colab": {
          "base_uri": "https://localhost:8080/",
          "height": 669
        },
        "id": "ORCkQ6X6jhgh",
        "outputId": "8939d317-4888-4537-bf55-aa1ab2bea6b7"
      },
      "execution_count": null,
      "outputs": [
        {
          "output_type": "execute_result",
          "data": {
            "text/html": [
              "\n",
              "  <div id=\"df-5032f828-0e86-4547-bacd-e333779ae090\">\n",
              "    <div class=\"colab-df-container\">\n",
              "      <div>\n",
              "<style scoped>\n",
              "    .dataframe tbody tr th:only-of-type {\n",
              "        vertical-align: middle;\n",
              "    }\n",
              "\n",
              "    .dataframe tbody tr th {\n",
              "        vertical-align: top;\n",
              "    }\n",
              "\n",
              "    .dataframe thead th {\n",
              "        text-align: right;\n",
              "    }\n",
              "</style>\n",
              "<table border=\"1\" class=\"dataframe\">\n",
              "  <thead>\n",
              "    <tr style=\"text-align: right;\">\n",
              "      <th></th>\n",
              "      <th>handle</th>\n",
              "      <th>text</th>\n",
              "      <th>timestamp</th>\n",
              "      <th>label</th>\n",
              "      <th>norm_text</th>\n",
              "      <th>cap_letters</th>\n",
              "      <th>cap_letters_norm</th>\n",
              "      <th>cap_words_normalized</th>\n",
              "      <th>num_!</th>\n",
              "      <th>!_exists</th>\n",
              "      <th>num_allcaps</th>\n",
              "      <th>allcaps_exist</th>\n",
              "      <th>len</th>\n",
              "      <th>time_idx</th>\n",
              "      <th>num_@</th>\n",
              "      <th>fake</th>\n",
              "      <th>count_fake</th>\n",
              "      <th>dayofweek</th>\n",
              "      <th>hour</th>\n",
              "      <th>w2v_embedding</th>\n",
              "      <th>w2v_embedding_lstm</th>\n",
              "      <th>w2v_embedding_lstm_cut</th>\n",
              "      <th>all_features</th>\n",
              "    </tr>\n",
              "  </thead>\n",
              "  <tbody>\n",
              "    <tr>\n",
              "      <th>0</th>\n",
              "      <td>realDonaldTrump</td>\n",
              "      <td>Democrats are smiling in D.C. that the Freedom...</td>\n",
              "      <td>2017-03-26 15:21:58</td>\n",
              "      <td>1</td>\n",
              "      <td>democrats are smiling in d . c . that the free...</td>\n",
              "      <td>0.037037</td>\n",
              "      <td>0.065217</td>\n",
              "      <td>0.458333</td>\n",
              "      <td>0.05</td>\n",
              "      <td>True</td>\n",
              "      <td>0.023256</td>\n",
              "      <td>True</td>\n",
              "      <td>0.037838</td>\n",
              "      <td>0.640919</td>\n",
              "      <td>0.000000</td>\n",
              "      <td>False</td>\n",
              "      <td>0.000000</td>\n",
              "      <td>1.0</td>\n",
              "      <td>0.652174</td>\n",
              "      <td>[-0.4342173596153845, -0.1390680838846154, 0.4...</td>\n",
              "      <td>[[-0.27719215, -0.13077949, 0.28654286, 0.2045...</td>\n",
              "      <td>[[tensor(-0.2772), tensor(-0.1308), tensor(0.2...</td>\n",
              "      <td>[-0.4342173596153845, -0.1390680838846154, 0.4...</td>\n",
              "    </tr>\n",
              "    <tr>\n",
              "      <th>1</th>\n",
              "      <td>realDonaldTrump</td>\n",
              "      <td>General Kelly is doing a great job at the bord...</td>\n",
              "      <td>2017-03-27 04:04:42</td>\n",
              "      <td>1</td>\n",
              "      <td>general kelly is doing a great job at the bord...</td>\n",
              "      <td>0.012346</td>\n",
              "      <td>0.022684</td>\n",
              "      <td>0.173913</td>\n",
              "      <td>0.00</td>\n",
              "      <td>False</td>\n",
              "      <td>0.000000</td>\n",
              "      <td>False</td>\n",
              "      <td>0.032432</td>\n",
              "      <td>0.169798</td>\n",
              "      <td>0.000000</td>\n",
              "      <td>False</td>\n",
              "      <td>0.000000</td>\n",
              "      <td>0.0</td>\n",
              "      <td>0.173913</td>\n",
              "      <td>[-0.5637518361538462, -0.1776679987076923, 0.4...</td>\n",
              "      <td>[[-0.36050308, -0.121594965, 0.23805527, 0.343...</td>\n",
              "      <td>[[tensor(-0.3605), tensor(-0.1216), tensor(0.2...</td>\n",
              "      <td>[-0.5637518361538462, -0.1776679987076923, 0.4...</td>\n",
              "    </tr>\n",
              "    <tr>\n",
              "      <th>2</th>\n",
              "      <td>realDonaldTrump</td>\n",
              "      <td>The race for DNC Chairman was, of course, tota...</td>\n",
              "      <td>2017-02-26 13:33:16</td>\n",
              "      <td>0</td>\n",
              "      <td>the race for dnc chairman was , of course , to...</td>\n",
              "      <td>0.027778</td>\n",
              "      <td>0.053360</td>\n",
              "      <td>0.318182</td>\n",
              "      <td>0.05</td>\n",
              "      <td>True</td>\n",
              "      <td>0.023256</td>\n",
              "      <td>True</td>\n",
              "      <td>0.036486</td>\n",
              "      <td>0.565762</td>\n",
              "      <td>0.000000</td>\n",
              "      <td>False</td>\n",
              "      <td>0.000000</td>\n",
              "      <td>1.0</td>\n",
              "      <td>0.565217</td>\n",
              "      <td>[-0.4356255919166668, -0.152111055125, 0.33020...</td>\n",
              "      <td>[[-0.22486667, -0.0873956, 0.3203062, 0.030871...</td>\n",
              "      <td>[[tensor(-0.2249), tensor(-0.0874), tensor(0.3...</td>\n",
              "      <td>[-0.4356255919166668, -0.152111055125, 0.33020...</td>\n",
              "    </tr>\n",
              "    <tr>\n",
              "      <th>3</th>\n",
              "      <td>realDonaldTrump</td>\n",
              "      <td>For first time the failing @nytimes will take ...</td>\n",
              "      <td>2017-02-26 13:42:39</td>\n",
              "      <td>0</td>\n",
              "      <td>for first time the failing @accountname\u0001 will ...</td>\n",
              "      <td>0.006173</td>\n",
              "      <td>0.010870</td>\n",
              "      <td>0.083333</td>\n",
              "      <td>0.05</td>\n",
              "      <td>True</td>\n",
              "      <td>0.000000</td>\n",
              "      <td>False</td>\n",
              "      <td>0.035135</td>\n",
              "      <td>0.572025</td>\n",
              "      <td>0.058824</td>\n",
              "      <td>False</td>\n",
              "      <td>0.000000</td>\n",
              "      <td>1.0</td>\n",
              "      <td>0.565217</td>\n",
              "      <td>[-0.47171765200000004, -0.2225789562307692, 0....</td>\n",
              "      <td>[[-0.37221777, -0.270992, 0.46658748, 0.368697...</td>\n",
              "      <td>[[tensor(-0.3722), tensor(-0.2710), tensor(0.4...</td>\n",
              "      <td>[-0.47171765200000004, -0.2225789562307692, 0....</td>\n",
              "    </tr>\n",
              "    <tr>\n",
              "      <th>4</th>\n",
              "      <td>realDonaldTrump</td>\n",
              "      <td>Russia talk is FAKE NEWS put out by the Dems, ...</td>\n",
              "      <td>2017-02-26 20:16:41</td>\n",
              "      <td>0</td>\n",
              "      <td>russia talk is fake news put out by the dems ,...</td>\n",
              "      <td>0.030864</td>\n",
              "      <td>0.046584</td>\n",
              "      <td>0.142857</td>\n",
              "      <td>0.05</td>\n",
              "      <td>True</td>\n",
              "      <td>0.046512</td>\n",
              "      <td>True</td>\n",
              "      <td>0.039189</td>\n",
              "      <td>0.846207</td>\n",
              "      <td>0.000000</td>\n",
              "      <td>True</td>\n",
              "      <td>0.333333</td>\n",
              "      <td>1.0</td>\n",
              "      <td>0.869565</td>\n",
              "      <td>[-0.42673118933333337, -0.13287575003666666, 0...</td>\n",
              "      <td>[[-0.30834773, -0.105930775, 0.21402845, 0.282...</td>\n",
              "      <td>[[tensor(-0.3083), tensor(-0.1059), tensor(0.2...</td>\n",
              "      <td>[-0.42673118933333337, -0.13287575003666666, 0...</td>\n",
              "    </tr>\n",
              "  </tbody>\n",
              "</table>\n",
              "</div>\n",
              "      <button class=\"colab-df-convert\" onclick=\"convertToInteractive('df-5032f828-0e86-4547-bacd-e333779ae090')\"\n",
              "              title=\"Convert this dataframe to an interactive table.\"\n",
              "              style=\"display:none;\">\n",
              "        \n",
              "  <svg xmlns=\"http://www.w3.org/2000/svg\" height=\"24px\"viewBox=\"0 0 24 24\"\n",
              "       width=\"24px\">\n",
              "    <path d=\"M0 0h24v24H0V0z\" fill=\"none\"/>\n",
              "    <path d=\"M18.56 5.44l.94 2.06.94-2.06 2.06-.94-2.06-.94-.94-2.06-.94 2.06-2.06.94zm-11 1L8.5 8.5l.94-2.06 2.06-.94-2.06-.94L8.5 2.5l-.94 2.06-2.06.94zm10 10l.94 2.06.94-2.06 2.06-.94-2.06-.94-.94-2.06-.94 2.06-2.06.94z\"/><path d=\"M17.41 7.96l-1.37-1.37c-.4-.4-.92-.59-1.43-.59-.52 0-1.04.2-1.43.59L10.3 9.45l-7.72 7.72c-.78.78-.78 2.05 0 2.83L4 21.41c.39.39.9.59 1.41.59.51 0 1.02-.2 1.41-.59l7.78-7.78 2.81-2.81c.8-.78.8-2.07 0-2.86zM5.41 20L4 18.59l7.72-7.72 1.47 1.35L5.41 20z\"/>\n",
              "  </svg>\n",
              "      </button>\n",
              "      \n",
              "  <style>\n",
              "    .colab-df-container {\n",
              "      display:flex;\n",
              "      flex-wrap:wrap;\n",
              "      gap: 12px;\n",
              "    }\n",
              "\n",
              "    .colab-df-convert {\n",
              "      background-color: #E8F0FE;\n",
              "      border: none;\n",
              "      border-radius: 50%;\n",
              "      cursor: pointer;\n",
              "      display: none;\n",
              "      fill: #1967D2;\n",
              "      height: 32px;\n",
              "      padding: 0 0 0 0;\n",
              "      width: 32px;\n",
              "    }\n",
              "\n",
              "    .colab-df-convert:hover {\n",
              "      background-color: #E2EBFA;\n",
              "      box-shadow: 0px 1px 2px rgba(60, 64, 67, 0.3), 0px 1px 3px 1px rgba(60, 64, 67, 0.15);\n",
              "      fill: #174EA6;\n",
              "    }\n",
              "\n",
              "    [theme=dark] .colab-df-convert {\n",
              "      background-color: #3B4455;\n",
              "      fill: #D2E3FC;\n",
              "    }\n",
              "\n",
              "    [theme=dark] .colab-df-convert:hover {\n",
              "      background-color: #434B5C;\n",
              "      box-shadow: 0px 1px 3px 1px rgba(0, 0, 0, 0.15);\n",
              "      filter: drop-shadow(0px 1px 2px rgba(0, 0, 0, 0.3));\n",
              "      fill: #FFFFFF;\n",
              "    }\n",
              "  </style>\n",
              "\n",
              "      <script>\n",
              "        const buttonEl =\n",
              "          document.querySelector('#df-5032f828-0e86-4547-bacd-e333779ae090 button.colab-df-convert');\n",
              "        buttonEl.style.display =\n",
              "          google.colab.kernel.accessAllowed ? 'block' : 'none';\n",
              "\n",
              "        async function convertToInteractive(key) {\n",
              "          const element = document.querySelector('#df-5032f828-0e86-4547-bacd-e333779ae090');\n",
              "          const dataTable =\n",
              "            await google.colab.kernel.invokeFunction('convertToInteractive',\n",
              "                                                     [key], {});\n",
              "          if (!dataTable) return;\n",
              "\n",
              "          const docLinkHtml = 'Like what you see? Visit the ' +\n",
              "            '<a target=\"_blank\" href=https://colab.research.google.com/notebooks/data_table.ipynb>data table notebook</a>'\n",
              "            + ' to learn more about interactive tables.';\n",
              "          element.innerHTML = '';\n",
              "          dataTable['output_type'] = 'display_data';\n",
              "          await google.colab.output.renderOutput(dataTable, element);\n",
              "          const docLink = document.createElement('div');\n",
              "          docLink.innerHTML = docLinkHtml;\n",
              "          element.appendChild(docLink);\n",
              "        }\n",
              "      </script>\n",
              "    </div>\n",
              "  </div>\n",
              "  "
            ],
            "text/plain": [
              "            handle  ...                                       all_features\n",
              "0  realDonaldTrump  ...  [-0.4342173596153845, -0.1390680838846154, 0.4...\n",
              "1  realDonaldTrump  ...  [-0.5637518361538462, -0.1776679987076923, 0.4...\n",
              "2  realDonaldTrump  ...  [-0.4356255919166668, -0.152111055125, 0.33020...\n",
              "3  realDonaldTrump  ...  [-0.47171765200000004, -0.2225789562307692, 0....\n",
              "4  realDonaldTrump  ...  [-0.42673118933333337, -0.13287575003666666, 0...\n",
              "\n",
              "[5 rows x 23 columns]"
            ]
          },
          "metadata": {},
          "execution_count": 8
        }
      ]
    },
    {
      "cell_type": "markdown",
      "metadata": {
        "id": "E__glKv8x6vn"
      },
      "source": [
        "### Train gensim Word2Vec Model using Trump Historical Tweets Data"
      ]
    },
    {
      "cell_type": "code",
      "execution_count": null,
      "metadata": {
        "id": "7IJPcAhdqsUf"
      },
      "outputs": [],
      "source": [
        "import gensim\n",
        "\n",
        "with open('/content/drive/MyDrive/MSc/nlp/trump_historical_tweets.txt', 'r') as f:\n",
        "  content = f.readlines()\n",
        "\n",
        "train_sentences = [normalize_text(l) for l in content]\n",
        "train_sentences = [s.split() for s in train_sentences]\n",
        "\n",
        "model = gensim.models.Word2Vec(sentences=train_sentences, size=100, window=5, min_count=5)\n",
        "model.wv.save_word2vec_format(\"/content/drive/MyDrive/MSc/nlp/w2v_model.txt\")"
      ]
    },
    {
      "cell_type": "code",
      "execution_count": null,
      "metadata": {
        "id": "-xFb77kqR3kP"
      },
      "outputs": [],
      "source": [
        "X = df[cols_for_model]\n",
        "y = df['label']\n",
        "\n",
        "X_train, X_test, y_train, y_test = train_test_split(X, y, test_size=0.3, random_state=42)"
      ]
    },
    {
      "cell_type": "markdown",
      "metadata": {
        "id": "tJfOqD8QN3Jt"
      },
      "source": [
        "### 1. Logistic Regression"
      ]
    },
    {
      "cell_type": "code",
      "source": [
        "params_grid = {\n",
        "    'C': [1, 10, 100, 1000, 3000, 5000], \n",
        "    'penalty': ['l1', 'l2'],\n",
        "    'solver': ['liblinear'],\n",
        "}\n",
        "\n",
        "cols_for_model = ['num_!',\n",
        "                  'len', \n",
        "                  'time_idx', \n",
        "                  'num_@', \n",
        "                  'count_fake', \n",
        "                  'fake', \n",
        "                  'num_allcaps', \n",
        "                  'cap_words_normalized', \n",
        "                  'cap_letters_norm',\n",
        "                  'cap_letters', \n",
        "                  'dayofweek', \n",
        "                  'hour']\n",
        "                  \n",
        "df = preprocess(TRAIN_PATH, test=False)\n",
        "\n",
        "X = df[cols_for_model]\n",
        "y = df['label']\n",
        "\n",
        "X_train, X_test, y_train, y_test = train_test_split(X, y, test_size=0.3, random_state=42)\n",
        "\n",
        "logistic = LogisticRegression(random_state=1)\n",
        "clf = RandomizedSearchCV(logistic, param_distributions=params_grid, cv=10, scoring='accuracy', random_state=1, refit=True)\n",
        "search = clf.fit(X_train, y_train)\n",
        "print(\"Logistic Regression - best parameters found by randomized search:\\n{}\".format(search.best_params_))\n",
        "\n",
        "logistic = LogisticRegression(**clf.best_params_, random_state=1).fit(X_train, y_train)\n",
        "print(\"\\nLogistic Regression - classification report for  best parameters:\\n{}\".format(classification_report(y_test, logistic.predict(X_test))))"
      ],
      "metadata": {
        "colab": {
          "base_uri": "https://localhost:8080/"
        },
        "id": "X4kKdJP4EuVb",
        "outputId": "71cea0f2-e452-4e13-cb61-411c0e39d58a"
      },
      "execution_count": null,
      "outputs": [
        {
          "output_type": "stream",
          "name": "stdout",
          "text": [
            "Logistic Regression - best parameters found by randomized search:\n",
            "{'solver': 'liblinear', 'penalty': 'l1', 'C': 100}\n",
            "\n",
            "Logistic Regression - classification report for  best parameters:\n",
            "              precision    recall  f1-score   support\n",
            "\n",
            "           0       0.82      0.96      0.88       683\n",
            "           1       0.83      0.47      0.60       276\n",
            "\n",
            "    accuracy                           0.82       959\n",
            "   macro avg       0.82      0.71      0.74       959\n",
            "weighted avg       0.82      0.82      0.80       959\n",
            "\n"
          ]
        }
      ]
    },
    {
      "cell_type": "markdown",
      "metadata": {
        "id": "himoHPajQP1K"
      },
      "source": [
        "## 2. Support Vectors Classifier"
      ]
    },
    {
      "cell_type": "markdown",
      "metadata": {
        "id": "jKNA-4HBlxDd"
      },
      "source": [
        "### Non-Linear SVC"
      ]
    },
    {
      "cell_type": "code",
      "execution_count": null,
      "metadata": {
        "colab": {
          "base_uri": "https://localhost:8080/"
        },
        "id": "u5ID6RWTlwCP",
        "outputId": "50abe0e6-746b-475b-9d28-b68fe191a5f0"
      },
      "outputs": [
        {
          "output_type": "stream",
          "name": "stdout",
          "text": [
            "Support Vectors - best parameters found by randomized search:\n",
            "{'kernel': 'poly', 'gamma': 'scale', 'class_weight': None, 'C': 1000}\n",
            "clf best params: {'kernel': 'poly', 'gamma': 'scale', 'class_weight': None, 'C': 1000}\n",
            "\n",
            "Support Vectors - classification report for  best parameters:\n",
            "              precision    recall  f1-score   support\n",
            "\n",
            "           0       0.83      0.92      0.88       683\n",
            "           1       0.74      0.54      0.62       276\n",
            "\n",
            "    accuracy                           0.81       959\n",
            "   macro avg       0.78      0.73      0.75       959\n",
            "weighted avg       0.81      0.81      0.80       959\n",
            "\n"
          ]
        }
      ],
      "source": [
        "params_grid = {\n",
        "    'C': [1, 10, 100, 500, 1000],\n",
        "    'kernel': ['linear', 'rbf', 'poly', 'sigmoid'],\n",
        "    'class_weight': ['balanced', None],\n",
        "    'gamma': ['scale', 'auto']\n",
        "}\n",
        "\n",
        "df = preprocess(TRAIN_PATH, test=False)\n",
        "\n",
        "X = np.array(df['w2v_embedding'].tolist())\n",
        "y = df['label'].tolist()\n",
        "\n",
        "X_train, X_test, y_train, y_test = train_test_split(X, y, test_size=0.3, random_state=42)\n",
        "\n",
        "svm = SVC(random_state=1)\n",
        "clf = RandomizedSearchCV(svm, param_distributions=params_grid, cv=10, scoring='accuracy', random_state=1, refit=True)\n",
        "\n",
        "search = clf.fit(X_train, y_train)\n",
        "print(\"Support Vectors - best parameters found by randomized search:\\n{}\".format(search.best_params_))\n",
        "\n",
        "svm = SVC(**clf.best_params_, random_state=1).fit(X_train, y_train)\n",
        "print(\"\\nSupport Vectors - classification report for  best parameters:\\n{}\".format(classification_report(y_test, svm.predict(X_test))))"
      ]
    },
    {
      "cell_type": "markdown",
      "source": [
        "### Linear SVC"
      ],
      "metadata": {
        "id": "ojLY2HKJBP9J"
      }
    },
    {
      "cell_type": "code",
      "source": [
        "params_grid = {\n",
        "    'C': [1, 10, 100, 500, 1000],\n",
        "    'kernel': ['linear'],\n",
        "    'class_weight': ['balanced', None],\n",
        "    'gamma': ['scale', 'auto']\n",
        "}\n",
        "\n",
        "df = preprocess(TRAIN_PATH, test=False)\n",
        "\n",
        "X = np.array(df['w2v_embedding'].tolist())\n",
        "y = df['label'].tolist()\n",
        "\n",
        "X_train, X_test, y_train, y_test = train_test_split(X, y, test_size=0.3, random_state=42)\n",
        "\n",
        "svm = SVC(random_state=1)\n",
        "clf = RandomizedSearchCV(svm, param_distributions=params_grid, cv=10, scoring='accuracy', random_state=1, refit=True)\n",
        "\n",
        "search = clf.fit(X_train, y_train)\n",
        "print(\"Support Vectors - best parameters found by randomized search:\\n{}\".format(search.best_params_))\n",
        "\n",
        "svm = SVC(**clf.best_params_, random_state=1).fit(X_train, y_train)\n",
        "print(\"\\nSupport Vectors - classification report for  best parameters:\\n{}\".format(classification_report(y_test, svm.predict(X_test))))"
      ],
      "metadata": {
        "colab": {
          "base_uri": "https://localhost:8080/"
        },
        "id": "i8mYLiZk4_M8",
        "outputId": "b173ebff-faed-406f-b444-6f7677e00104"
      },
      "execution_count": null,
      "outputs": [
        {
          "output_type": "stream",
          "name": "stdout",
          "text": [
            "Support Vectors - best parameters found by randomized search:\n",
            "{'kernel': 'linear', 'gamma': 'scale', 'class_weight': None, 'C': 500}\n",
            "\n",
            "Support Vectors - classification report for  best parameters:\n",
            "              precision    recall  f1-score   support\n",
            "\n",
            "           0       0.81      0.96      0.88       683\n",
            "           1       0.83      0.43      0.57       276\n",
            "\n",
            "    accuracy                           0.81       959\n",
            "   macro avg       0.82      0.70      0.73       959\n",
            "weighted avg       0.82      0.81      0.79       959\n",
            "\n"
          ]
        }
      ]
    },
    {
      "cell_type": "markdown",
      "metadata": {
        "id": "ntVjly9HqHXD"
      },
      "source": [
        "# Deep Models"
      ]
    },
    {
      "cell_type": "code",
      "execution_count": null,
      "metadata": {
        "id": "319q917XbIsI"
      },
      "outputs": [],
      "source": [
        "from torch import sigmoid, relu, no_grad\n",
        "from torch import nn, optim, tensor\n",
        "import torch.nn.functional as F\n",
        "from torch.utils.data import DataLoader, TensorDataset\n",
        "from sklearn.metrics import accuracy_score, recall_score, precision_score, f1_score\n",
        "from torch import save, load\n",
        "\n",
        "# fit model with the defined hyper parameters\n",
        "def fit(epochs, model, loss_func, opt, train_dl, valid_dl, return_best=False):\n",
        "    best_model, loss_min = deepcopy(model), np.inf\n",
        "    for epoch in range(epochs):\n",
        "        model.train()\n",
        "        for xb, yb in train_dl:\n",
        "            loss_batch(model, loss_func, xb, yb, opt)\n",
        "\n",
        "        model.eval()\n",
        "        with no_grad():\n",
        "            losses, nums = zip(\n",
        "                *[loss_batch(model, loss_func, xb, yb) for xb, yb in valid_dl])\n",
        "        val_loss = np.sum(np.multiply(losses, nums)) / np.sum(nums)\n",
        "        if val_loss < loss_min:\n",
        "          # save model state\n",
        "          save(model.state_dict(), './best_model_tmp')\n",
        "          loss_min = val_loss\n",
        "          # best_model, loss_min = deepcopy(model), val_loss\n",
        "\n",
        "        print(epoch, val_loss)\n",
        "    if return_best:\n",
        "      model.load_state_dict(load('./best_model_tmp'))   \n",
        "      # model = best_model\n",
        "\n",
        "def loss_batch(model, loss_func, xb, yb, opt=None):\n",
        "    loss = loss_func(model(xb), yb)\n",
        "\n",
        "    if opt is not None:\n",
        "        loss.backward()\n",
        "        opt.step()\n",
        "        opt.zero_grad()\n",
        "\n",
        "    return loss.item(), len(xb)\n",
        "\n",
        "def evaluation(valid, target_valid, model):\n",
        "  '''\n",
        "  return (and print) evaluation metrics results\n",
        "  '''\n",
        "  # metrics\n",
        "  with no_grad():\n",
        "    pred   = np.round(model(valid).detach()).flatten()\n",
        "    target = target_valid.detach().flatten()\n",
        "\n",
        "    acc = accuracy_score(target, pred)\n",
        "    rec = recall_score(target, pred)\n",
        "    pre = precision_score(target, pred)\n",
        "    f1 = f1_score(target ,pred)\n",
        "\n",
        "  print(f'acc: {acc:.3f}. recall: {rec:.3f}. precision: {pre:.3f}. f1: {f1:.3f}')\n",
        "  return acc, rec, pre, f1"
      ]
    },
    {
      "cell_type": "markdown",
      "metadata": {
        "id": "hjN9ocPnbFIw"
      },
      "source": [
        "## 3. NN Classifier"
      ]
    },
    {
      "cell_type": "code",
      "execution_count": null,
      "metadata": {
        "id": "4pdsZFVO5XS4"
      },
      "outputs": [],
      "source": [
        "class FNN(nn.Module):\n",
        "  def __init__(self, input_dim):\n",
        "    super().__init__()\n",
        "    self.lin1 = nn.Linear(input_dim, int(input_dim * 1.5))\n",
        "    self.lin2 = nn.Linear(int(input_dim * 1.5), int(input_dim * 0.5))\n",
        "    self.lin3 = nn.Linear(int(input_dim * 0.5), 1)\n",
        "  \n",
        "  def forward(self, x):\n",
        "\n",
        "    x = relu(self.lin1(x))\n",
        "    x = relu(self.lin2(x))\n",
        "    x = sigmoid(self.lin3(x))\n",
        "\n",
        "    return x"
      ]
    },
    {
      "cell_type": "markdown",
      "metadata": {
        "id": "iX7VMVfN5mdP"
      },
      "source": [
        "MERGE FEATURES:"
      ]
    },
    {
      "cell_type": "code",
      "execution_count": null,
      "metadata": {
        "id": "c5D-Lel15sDZ"
      },
      "outputs": [],
      "source": [
        "features = ['num_!','len', 'time_idx', 'num_@', 'count_fake', 'fake', 'num_allcaps', 'cap_words_normalized', 'cap_letters_norm','cap_letters', 'dayofweek', 'hour']\n",
        "X = get_array_features(df, multi_cols=['w2v_embedding'], uni_cols=features)\n",
        "y = df['label'].values"
      ]
    },
    {
      "cell_type": "code",
      "execution_count": null,
      "metadata": {
        "id": "jDXfHWCSAsSv"
      },
      "outputs": [],
      "source": [
        "# load embedding vectors as features\n",
        "# define train & test\n",
        "train, valid, target_train, target_valid = train_test_split(X.astype(np.float32), y.astype(np.float32), test_size=0.3)\n",
        "\n",
        "# convert to tensor and reshaping\n",
        "train, target_train, valid, target_valid = map(\n",
        "    tensor, (train, target_train, valid, target_valid))\n",
        "\n",
        "train_ds = TensorDataset(train, target_train.reshape(-1,1))\n",
        "valid_ds = TensorDataset(valid, target_valid.reshape(-1,1))\n",
        "\n",
        "bs = 64\n",
        "train_dl = DataLoader(train_ds, batch_size=bs, shuffle=True)\n",
        "valid_dl = DataLoader(valid_ds, batch_size=bs * 2)"
      ]
    },
    {
      "cell_type": "code",
      "execution_count": null,
      "metadata": {
        "id": "rUhOQ0B6bvWP"
      },
      "outputs": [],
      "source": [
        "model = FNN(input_dim = X.shape[1])\n",
        "opt = optim.Adam(model.parameters())#, lr=lr)\n",
        "loss_func = F.binary_cross_entropy\n",
        "# loss_func = F.cross_entropy\n",
        "epochs = 120\n",
        "fit(epochs, model, loss_func, opt, train_dl, valid_dl)"
      ]
    },
    {
      "cell_type": "code",
      "source": [
        "evaluation(valid, target_valid, model)"
      ],
      "metadata": {
        "colab": {
          "base_uri": "https://localhost:8080/"
        },
        "id": "XI5cSCjtb66v",
        "outputId": "283a77c6-75a6-442e-c98a-b54218f45c8d"
      },
      "execution_count": null,
      "outputs": [
        {
          "output_type": "stream",
          "name": "stdout",
          "text": [
            "acc: 0.843. recall: 0.740. precision: 0.820. f1: 0.778\n"
          ]
        },
        {
          "output_type": "execute_result",
          "data": {
            "text/plain": [
              "(0.8425443169968717,\n",
              " 0.7402234636871509,\n",
              " 0.8204334365325078,\n",
              " 0.7782672540381792)"
            ]
          },
          "metadata": {},
          "execution_count": 33
        }
      ]
    },
    {
      "cell_type": "code",
      "source": [
        "evaluation(valid, target_valid, model)"
      ],
      "metadata": {
        "colab": {
          "base_uri": "https://localhost:8080/"
        },
        "id": "j4LDubI2bxQL",
        "outputId": "a9b3ec3f-203f-41dd-9bb4-408c65368251"
      },
      "execution_count": null,
      "outputs": [
        {
          "output_type": "stream",
          "name": "stdout",
          "text": [
            "acc: 0.839. recall: 0.637. precision: 0.905. f1: 0.748\n"
          ]
        },
        {
          "output_type": "execute_result",
          "data": {
            "text/plain": [
              "(0.8394160583941606,\n",
              " 0.6368715083798883,\n",
              " 0.9047619047619048,\n",
              " 0.7475409836065574)"
            ]
          },
          "metadata": {},
          "execution_count": 31
        }
      ]
    },
    {
      "cell_type": "code",
      "execution_count": null,
      "metadata": {
        "colab": {
          "base_uri": "https://localhost:8080/"
        },
        "id": "YYYrroo3ws1Y",
        "outputId": "4f1fe97a-9f71-439a-83a8-dfeeea15d0ea"
      },
      "outputs": [
        {
          "name": "stdout",
          "output_type": "stream",
          "text": [
            "acc: 0.819. recall: 0.565. precision: 0.890. f1: 0.691\n"
          ]
        },
        {
          "data": {
            "text/plain": [
              "(0.8185610010427529,\n",
              " 0.5652173913043478,\n",
              " 0.8904109589041096,\n",
              " 0.6914893617021277)"
            ]
          },
          "execution_count": 63,
          "metadata": {},
          "output_type": "execute_result"
        }
      ],
      "source": [
        "evaluation(valid, target_valid, model)"
      ]
    },
    {
      "cell_type": "code",
      "execution_count": null,
      "metadata": {
        "colab": {
          "base_uri": "https://localhost:8080/"
        },
        "id": "_-8twBb86SyA",
        "outputId": "36f4dc70-384b-4ca5-daa8-c7671fdceefb"
      },
      "outputs": [
        {
          "name": "stdout",
          "output_type": "stream",
          "text": [
            "acc: 0.838. recall: 0.762. precision: 0.791. f1: 0.776\n"
          ]
        },
        {
          "data": {
            "text/plain": [
              "(0.8383733055265902,\n",
              " 0.7620396600566572,\n",
              " 0.7911764705882353,\n",
              " 0.7763347763347762)"
            ]
          },
          "execution_count": 74,
          "metadata": {},
          "output_type": "execute_result"
        }
      ],
      "source": [
        "evaluation(valid, target_valid, model)"
      ]
    },
    {
      "cell_type": "markdown",
      "metadata": {
        "id": "pNawJOm3oI0U"
      },
      "source": [
        "## 4. LSTM Classifier"
      ]
    },
    {
      "cell_type": "code",
      "execution_count": null,
      "metadata": {
        "id": "ZIM0Ern39VY6"
      },
      "outputs": [],
      "source": [
        "class my_lstm(nn.Module):\n",
        "  def __init__(self, input_dim, hidden_size, num_layers=1, bidirectional=False,\n",
        "               batch_first=True):\n",
        "    super().__init__()\n",
        "    self.lstm = nn.LSTM(input_dim, hidden_size, num_layers,\n",
        "                        bidirectional=bidirectional, batch_first=batch_first)\n",
        "    self.lin1 = nn.Linear(hidden_size * (1+int(bidirectional)), int(hidden_size * 0.6))\n",
        "    self.lin2 = nn.Linear(int(hidden_size * 0.6) , 1)\n",
        "  \n",
        "  def forward(self, x):\n",
        "    \n",
        "    x = relu(self.lstm(x)[0][:,-1,:])\n",
        "    x = relu(self.lin1(x))\n",
        "    x = sigmoid(self.lin2(x))\n",
        "\n",
        "    return x"
      ]
    },
    {
      "cell_type": "code",
      "execution_count": null,
      "metadata": {
        "id": "4lF0Mapbqr_4"
      },
      "outputs": [],
      "source": [
        "# def load_w2v_model(path = None):\n",
        "#   with open('./w2v_model.txt', 'r') as f:\n",
        "#     lines = f.readlines()\n",
        "\n",
        "#   w2v_model = {l.split()[0]: [float(v) for v in l.split()[1:]] for l in lines[1:]}\n",
        "\n",
        "#   return w2v_model\n",
        "\n",
        "# w2v_model = load_w2v_model()"
      ]
    },
    {
      "cell_type": "code",
      "execution_count": null,
      "metadata": {
        "colab": {
          "base_uri": "https://localhost:8080/",
          "height": 313
        },
        "id": "HUfJY0RlwqKL",
        "outputId": "9a1b8e48-81c4-4fe9-cf25-752f8a807781"
      },
      "outputs": [
        {
          "output_type": "display_data",
          "data": {
            "image/png": "[encoded data removed]",
            "text/plain": [
              "<Figure size 432x288 with 1 Axes>"
            ]
          },
          "metadata": {
            "needs_background": "light"
          }
        },
        {
          "output_type": "stream",
          "name": "stdout",
          "text": [
            "Just 0.91 %  of all tweets are longer than 55\n"
          ]
        }
      ],
      "source": [
        "# visualiztion of tweets length\n",
        "lengths = df['w2v_embedding_lstm'].apply(len)\n",
        "plt.hist(lengths, bins=70), plt.title('Length tweets distribution'), plt.xlabel('Length')\n",
        "plt.show()\n",
        "\n",
        "threshold = 55\n",
        "long_percent = 100 * len(lengths[lengths>threshold]) / len(lengths)\n",
        "print(f'Just {long_percent:.2f} %  of all tweets are longer than {threshold}')"
      ]
    },
    {
      "cell_type": "markdown",
      "metadata": {
        "id": "dv1vylgkxHDZ"
      },
      "source": [
        "We can see that len=55 is sufficient for most of tweets. Longer tweets can be cut"
      ]
    },
    {
      "cell_type": "code",
      "execution_count": null,
      "metadata": {
        "id": "hCiAIOZ7ydK6"
      },
      "outputs": [],
      "source": [
        "# Padding sequences\n",
        "X = nn.utils.rnn.pad_sequence(tuple(df['w2v_embedding_lstm_cut'].values), batch_first=True)\n",
        "y = df['label'].values"
      ]
    },
    {
      "cell_type": "code",
      "execution_count": null,
      "metadata": {
        "id": "d4rdICQj4m0_"
      },
      "outputs": [],
      "source": [
        "test_size=0.3\n",
        "threshold_index = int((1-test_size) * X.shape[0])\n",
        "train, valid = X[:threshold_index], X[threshold_index:]\n",
        "# threshold_index = int((1-test_size) * X.shape[1])\n",
        "# train, valid = X[:, :threshold_index], X[:, threshold_index:]\n",
        "target_train, target_valid = y[:threshold_index].astype(np.float32), y[threshold_index:].astype(np.float32)\n",
        "# train, valid, target_train, target_valid = train_test_split(X.astype(np.float32), y.astype(np.float32), test_size=0.3)"
      ]
    },
    {
      "cell_type": "code",
      "execution_count": null,
      "metadata": {
        "colab": {
          "base_uri": "https://localhost:8080/"
        },
        "id": "l11H0qBZt-UI",
        "outputId": "a782389f-8cad-437e-9761-e7b1c411b2ba"
      },
      "outputs": [
        {
          "output_type": "stream",
          "name": "stderr",
          "text": [
            "/usr/local/lib/python3.7/dist-packages/ipykernel_launcher.py:3: UserWarning: To copy construct from a tensor, it is recommended to use sourceTensor.clone().detach() or sourceTensor.clone().detach().requires_grad_(True), rather than torch.tensor(sourceTensor).\n",
            "  This is separate from the ipykernel package so we can avoid doing imports until\n"
          ]
        }
      ],
      "source": [
        "# convert to tensor and reshaping\n",
        "train, target_train, valid, target_valid = map(\n",
        "    tensor, (train, target_train, valid, target_valid))\n",
        "\n",
        "train_ds = TensorDataset(train, target_train.reshape(-1,1))\n",
        "valid_ds = TensorDataset(valid, target_valid.reshape(-1,1))\n",
        "\n",
        "bs = 64\n",
        "train_dl = DataLoader(train_ds, batch_size=bs, shuffle=True)\n",
        "valid_dl = DataLoader(valid_ds, batch_size=bs * 2)"
      ]
    },
    {
      "cell_type": "code",
      "execution_count": null,
      "metadata": {
        "id": "vQAwRLZiqrtI"
      },
      "outputs": [],
      "source": [
        "HIDDEN_SIZE = 45\n",
        "NUM_LAYERS = 1\n",
        "mylstm = my_lstm(train.shape[-1], HIDDEN_SIZE, batch_first=True,\n",
        "                 num_layers=NUM_LAYERS, bidirectional=True)"
      ]
    },
    {
      "cell_type": "code",
      "execution_count": null,
      "metadata": {
        "id": "7aqJwmexqrxp",
        "colab": {
          "base_uri": "https://localhost:8080/"
        },
        "outputId": "360fa07a-1f7d-42d1-cb2f-08467f0d2d8f"
      },
      "outputs": [
        {
          "output_type": "stream",
          "name": "stdout",
          "text": [
            "0 0.6219745017316219\n",
            "1 0.6213047936387803\n",
            "2 0.6227929570379048\n",
            "3 0.6174279940513675\n",
            "4 0.5799962179006949\n",
            "5 0.5792023944158624\n",
            "6 0.6507650731253798\n",
            "7 0.6196202588528861\n",
            "8 0.5662109664756886\n",
            "9 0.5519781479994622\n",
            "10 0.5004408236464818\n",
            "11 0.5706234915537431\n",
            "12 0.4882987169578003\n",
            "13 0.46760786480898653\n",
            "14 0.4578306310741198\n",
            "15 0.4427405935134331\n",
            "16 0.42216372701249105\n",
            "17 0.43114495271189496\n",
            "18 0.408218357311921\n",
            "19 0.3959164973717412\n",
            "20 0.388402236763454\n",
            "21 0.40149364487595307\n",
            "22 0.382743198816918\n",
            "23 0.38404985755775223\n",
            "24 0.37011048698077237\n",
            "25 0.3738638880479075\n",
            "26 0.36686388736472264\n",
            "27 0.3822647771323187\n",
            "28 0.3739418125749256\n",
            "29 0.3827458423046673\n",
            "30 0.38942259941657964\n",
            "31 0.378766611731214\n",
            "32 0.3750938426341951\n",
            "33 0.3717325453464878\n",
            "34 0.37892475080937615\n",
            "35 0.36758051208211684\n",
            "36 0.36610384709643623\n",
            "37 0.36492314589781855\n",
            "38 0.36666131684628467\n",
            "39 0.3659089293420253\n",
            "40 0.3792715843949502\n",
            "41 0.36481675981107914\n",
            "42 0.36422776548158886\n",
            "43 0.3612912028748251\n",
            "44 0.3770177974069454\n"
          ]
        }
      ],
      "source": [
        "opt = optim.Adam(mylstm.parameters())\n",
        "loss_func = F.binary_cross_entropy\n",
        "# loss_func = F.cross_entropy\n",
        "epochs = 45\n",
        "fit(epochs, mylstm, loss_func, opt, train_dl, valid_dl, return_best=True)"
      ]
    },
    {
      "cell_type": "code",
      "source": [
        "model=mylstm\n",
        "loss_func=F.binary_cross_entropy\n",
        "with no_grad():\n",
        "  losses, nums = zip(\n",
        "          *[loss_batch(model, loss_func, xb, yb) for xb, yb in valid_dl])\n",
        "  val_loss = np.sum(np.multiply(losses, nums)) / np.sum(nums)\n",
        "val_loss"
      ],
      "metadata": {
        "colab": {
          "base_uri": "https://localhost:8080/"
        },
        "id": "daJFhAAssTuL",
        "outputId": "13009a1c-de38-4915-838c-57ab2acdd5e6"
      },
      "execution_count": null,
      "outputs": [
        {
          "output_type": "execute_result",
          "data": {
            "text/plain": [
              "0.3612912028748251"
            ]
          },
          "metadata": {},
          "execution_count": 37
        }
      ]
    },
    {
      "cell_type": "code",
      "source": [
        "evaluation(valid, target_valid, mylstm) # 44 epochs, hidden=30, num_layers=2, bidirectional"
      ],
      "metadata": {
        "colab": {
          "base_uri": "https://localhost:8080/"
        },
        "id": "c9PSoFR2wwVr",
        "outputId": "a87c5fb3-1a9c-408f-bf11-93d9286bac35"
      },
      "execution_count": null,
      "outputs": [
        {
          "output_type": "stream",
          "name": "stdout",
          "text": [
            "acc: 0.854. recall: 0.679. precision: 0.827. f1: 0.745\n"
          ]
        },
        {
          "output_type": "execute_result",
          "data": {
            "text/plain": [
              "(0.8540145985401459,\n",
              " 0.6788079470198676,\n",
              " 0.8266129032258065,\n",
              " 0.7454545454545455)"
            ]
          },
          "metadata": {},
          "execution_count": 38
        }
      ]
    },
    {
      "cell_type": "code",
      "source": [
        "evaluation(valid, target_valid, mylstm) # 44 epochs, hidden=30, num_layers=2, bidirectional"
      ],
      "metadata": {
        "colab": {
          "base_uri": "https://localhost:8080/"
        },
        "id": "VYCmT4-OsELX",
        "outputId": "ab85c716-7a76-4d35-cf59-a3bf88d8d4e6"
      },
      "execution_count": null,
      "outputs": [
        {
          "output_type": "stream",
          "name": "stdout",
          "text": [
            "acc: 0.851. recall: 0.636. precision: 0.853. f1: 0.729\n"
          ]
        },
        {
          "output_type": "execute_result",
          "data": {
            "text/plain": [
              "(0.8508863399374348, 0.6357615894039735, 0.8533333333333334, 0.72865275142315)"
            ]
          },
          "metadata": {},
          "execution_count": 27
        }
      ]
    },
    {
      "cell_type": "code",
      "source": [
        "evaluation(valid, target_valid, mylstm) # 33 epochs, hidden=30, num_layers=2, bidirectional"
      ],
      "metadata": {
        "colab": {
          "base_uri": "https://localhost:8080/"
        },
        "id": "kJ-CWzPg4eWj",
        "outputId": "9a7d1831-b228-4294-848e-b767c21a8495"
      },
      "execution_count": null,
      "outputs": [
        {
          "output_type": "stream",
          "name": "stdout",
          "text": [
            "acc: 0.860. recall: 0.682. precision: 0.844. f1: 0.755\n"
          ]
        },
        {
          "output_type": "execute_result",
          "data": {
            "text/plain": [
              "(0.8602711157455682,\n",
              " 0.6821192052980133,\n",
              " 0.8442622950819673,\n",
              " 0.7545787545787546)"
            ]
          },
          "metadata": {},
          "execution_count": 36
        }
      ]
    },
    {
      "cell_type": "code",
      "source": [
        "evaluation(valid, target_valid, mylstm) # 33 epochs, hidden=30, num_layers=2, bidirectional"
      ],
      "metadata": {
        "colab": {
          "base_uri": "https://localhost:8080/"
        },
        "id": "bWajMeJf4PTD",
        "outputId": "7b2f7f0e-848d-494a-c09b-458ee22ad62e"
      },
      "execution_count": null,
      "outputs": [
        {
          "output_type": "stream",
          "name": "stdout",
          "text": [
            "acc: 0.857. recall: 0.679. precision: 0.837. f1: 0.750\n"
          ]
        },
        {
          "output_type": "execute_result",
          "data": {
            "text/plain": [
              "(0.8571428571428571,\n",
              " 0.6788079470198676,\n",
              " 0.8367346938775511,\n",
              " 0.7495429616087752)"
            ]
          },
          "metadata": {},
          "execution_count": 32
        }
      ]
    },
    {
      "cell_type": "code",
      "source": [
        "# save model state\n",
        "save(mylstm.state_dict(), './best_model_lstm')"
      ],
      "metadata": {
        "id": "7_fN2IVG1-uS"
      },
      "execution_count": null,
      "outputs": []
    },
    {
      "cell_type": "code",
      "source": [
        "# load data and process\n",
        "test = preprocess('trump_test.tsv', test=True)\n",
        "\n",
        "# Padding sequences\n",
        "X_test = nn.utils.rnn.pad_sequence(tuple(test['w2v_embedding_lstm_cut'].values), batch_first=True)\n",
        "\n",
        "pred = mylstm(X_test)\n",
        "\n",
        "pred = pred.flatten().detach().tolist()\n",
        "pred = np.round(pred)"
      ],
      "metadata": {
        "id": "BrlPzDioqGq8"
      },
      "execution_count": null,
      "outputs": []
    },
    {
      "cell_type": "code",
      "source": [
        "evaluation(valid, target_valid, mylstm) # 33 epochs, hidden=30, num_layers=2, bidirectional"
      ],
      "metadata": {
        "colab": {
          "base_uri": "https://localhost:8080/"
        },
        "id": "fbfaP2RIfvV7",
        "outputId": "72e49ca6-63cc-455f-b138-2e49864b8d8e"
      },
      "execution_count": null,
      "outputs": [
        {
          "output_type": "stream",
          "name": "stdout",
          "text": [
            "acc: 0.851. recall: 0.834. precision: 0.784. f1: 0.809\n"
          ]
        },
        {
          "output_type": "execute_result",
          "data": {
            "text/plain": [
              "(0.8508863399374348,\n",
              " 0.8342541436464088,\n",
              " 0.7844155844155845,\n",
              " 0.8085676037483267)"
            ]
          },
          "metadata": {},
          "execution_count": 53
        }
      ]
    },
    {
      "cell_type": "code",
      "execution_count": null,
      "metadata": {
        "id": "y2l1-lC0qr2u",
        "colab": {
          "base_uri": "https://localhost:8080/"
        },
        "outputId": "a83736c0-26dd-4366-93bc-74388e8bc733"
      },
      "outputs": [
        {
          "output_type": "stream",
          "name": "stdout",
          "text": [
            "acc: 0.862. recall: 0.790. precision: 0.836. f1: 0.812\n"
          ]
        },
        {
          "output_type": "execute_result",
          "data": {
            "text/plain": [
              "(0.862356621480709, 0.7900552486187845, 0.8362573099415205, 0.8125)"
            ]
          },
          "metadata": {},
          "execution_count": 21
        }
      ],
      "source": [
        "evaluation(valid, target_valid, mylstm) # 20 epochs, hidden=30, bidirectional"
      ]
    },
    {
      "cell_type": "code",
      "execution_count": null,
      "metadata": {
        "id": "1NqO4saOqr6m",
        "colab": {
          "base_uri": "https://localhost:8080/"
        },
        "outputId": "cc30b9f3-5b8e-46ca-80c9-473137f23429"
      },
      "outputs": [
        {
          "output_type": "stream",
          "name": "stdout",
          "text": [
            "acc: 0.847. recall: 0.655. precision: 0.915. f1: 0.763\n"
          ]
        },
        {
          "output_type": "execute_result",
          "data": {
            "text/plain": [
              "(0.8467153284671532, 0.6546961325966851, 0.915057915057915, 0.7632850241545894)"
            ]
          },
          "metadata": {},
          "execution_count": 28
        }
      ],
      "source": [
        "evaluation(valid, target_valid, mylstm) # 25 epochs, hidden=30, bidirectional"
      ]
    },
    {
      "cell_type": "code",
      "source": [
        "evaluation(valid, target_valid, mylstm) # 25 epochs, hidden=70, bidirectional"
      ],
      "metadata": {
        "colab": {
          "base_uri": "https://localhost:8080/"
        },
        "id": "-Z0PVgXuBe5p",
        "outputId": "27f005fe-40e1-4797-de85-4f3f3964e21f"
      },
      "execution_count": null,
      "outputs": [
        {
          "output_type": "stream",
          "name": "stdout",
          "text": [
            "acc: 0.862. recall: 0.738. precision: 0.878. f1: 0.802\n"
          ]
        },
        {
          "output_type": "execute_result",
          "data": {
            "text/plain": [
              "(0.862356621480709, 0.7375690607734806, 0.8782894736842105, 0.8018018018018017)"
            ]
          },
          "metadata": {},
          "execution_count": 31
        }
      ]
    },
    {
      "cell_type": "code",
      "execution_count": null,
      "metadata": {
        "id": "A1iJiPJNqr_p",
        "colab": {
          "base_uri": "https://localhost:8080/"
        },
        "outputId": "832c6d03-abe7-43cf-d4a5-898e00fef7b5"
      },
      "outputs": [
        {
          "output_type": "stream",
          "name": "stdout",
          "text": [
            "acc: 0.856. recall: 0.699. precision: 0.897. f1: 0.786\n"
          ]
        },
        {
          "output_type": "execute_result",
          "data": {
            "text/plain": [
              "(0.8561001042752867,\n",
              " 0.6988950276243094,\n",
              " 0.8971631205673759,\n",
              " 0.7857142857142858)"
            ]
          },
          "metadata": {},
          "execution_count": 37
        }
      ],
      "source": [
        "evaluation(valid, target_valid, mylstm) # 35 epochs, hidden=15, bidirectional"
      ]
    },
    {
      "cell_type": "markdown",
      "metadata": {
        "id": "2JgBwpf9oqIX"
      },
      "source": [
        "## 5. Classifier of our Choice - Gradient Boosting"
      ]
    },
    {
      "cell_type": "code",
      "source": [
        "params_grid = {\n",
        "    'n_estimators': [5, 10, 50, 100, 200],\n",
        "    'learning_rate': [0.01, 0.1, 0.5],\n",
        "    'max_depth': [1, 3, 5, 10]}\n",
        "\n",
        "cols_for_model = ['num_!',\n",
        "                  'len', \n",
        "                  'time_idx', \n",
        "                  'num_@', \n",
        "                  'count_fake', \n",
        "                  'fake', \n",
        "                  'num_allcaps', \n",
        "                  'cap_words_normalized', \n",
        "                  'cap_letters_norm',\n",
        "                  'cap_letters', \n",
        "                  'dayofweek', \n",
        "                  'hour']\n",
        "\n",
        "# df = preprocess(TRAIN_PATH, test=False)\n",
        "\n",
        "X = np.array(df['all_features'].tolist())\n",
        "y = df['label'].tolist()\n",
        "\n",
        "# X = df[cols_for_model]\n",
        "# y = df['label'].tolist()\n",
        "\n",
        "X_train, X_test, y_train, y_test = train_test_split(X, y, test_size=0.3, random_state=42)\n",
        "\n",
        "gbt = GradientBoostingClassifier(random_state=1)\n",
        "clf = RandomizedSearchCV(gbt, param_distributions=params_grid, cv=10, scoring='accuracy', random_state=1, refit=True)\n",
        "\n",
        "search = clf.fit(X_train, y_train)\n",
        "print(\"Gradient Boosting Tree - best parameters found by randomized search:\\n{}\".format(search.best_params_))\n",
        "\n",
        "gbt = GradientBoostingClassifier(**clf.best_params_, random_state=1).fit(X_train, y_train)\n",
        "print(\"\\nGradient Boosting Tree - classification report for  best parameters:\\n{}\".format(classification_report(y_test, gbt.predict(X_test))))"
      ],
      "metadata": {
        "colab": {
          "base_uri": "https://localhost:8080/"
        },
        "id": "ApwZbFJj2AFe",
        "outputId": "7d3dedec-fd98-4fd3-c116-7b034516749a"
      },
      "execution_count": null,
      "outputs": [
        {
          "output_type": "stream",
          "name": "stdout",
          "text": [
            "Gradient Boosting Tree - best parameters found by randomized search:\n",
            "{'n_estimators': 50, 'max_depth': 3, 'learning_rate': 0.1}\n",
            "\n",
            "Gradient Boosting Tree - classification report for  best parameters:\n",
            "              precision    recall  f1-score   support\n",
            "\n",
            "           0       0.82      0.95      0.88       683\n",
            "           1       0.80      0.50      0.61       276\n",
            "\n",
            "    accuracy                           0.82       959\n",
            "   macro avg       0.81      0.72      0.75       959\n",
            "weighted avg       0.82      0.82      0.81       959\n",
            "\n"
          ]
        }
      ]
    },
    {
      "cell_type": "markdown",
      "metadata": {
        "id": "xg7XJSNVnGg9"
      },
      "source": [
        "## Manual Analysis of Textual-Features"
      ]
    },
    {
      "cell_type": "code",
      "source": [
        "sns.displot(data=df, x='dayofweek', kind='hist', bins=40, col='label', facet_kws=dict(sharey=False, sharex=False))"
      ],
      "metadata": {
        "colab": {
          "base_uri": "https://localhost:8080/",
          "height": 388
        },
        "id": "-pPqbGBwauCs",
        "outputId": "e9231009-15e4-476d-ce7e-66cdd0e40f98"
      },
      "execution_count": null,
      "outputs": [
        {
          "output_type": "execute_result",
          "data": {
            "text/plain": [
              "<seaborn.axisgrid.FacetGrid at 0x7f53ab338050>"
            ]
          },
          "metadata": {},
          "execution_count": 21
        },
        {
          "output_type": "display_data",
          "data": {
            "image/png": "[encoded data removed]",
            "text/plain": [
              "<Figure size 720x360 with 2 Axes>"
            ]
          },
          "metadata": {
            "needs_background": "light"
          }
        }
      ]
    },
    {
      "cell_type": "code",
      "source": [
        "sns.displot(data=df, x='hour', kind='hist', bins=40, col='label', facet_kws=dict(sharey=False, sharex=False))"
      ],
      "metadata": {
        "colab": {
          "base_uri": "https://localhost:8080/",
          "height": 388
        },
        "id": "rR48xlALafGY",
        "outputId": "4409af56-7146-4146-cbe2-095c7f9ff4b1"
      },
      "execution_count": null,
      "outputs": [
        {
          "output_type": "execute_result",
          "data": {
            "text/plain": [
              "<seaborn.axisgrid.FacetGrid at 0x7f53ab345510>"
            ]
          },
          "metadata": {},
          "execution_count": 20
        },
        {
          "output_type": "display_data",
          "data": {
            "image/png": "[encoded data removed]",
            "text/plain": [
              "<Figure size 720x360 with 2 Axes>"
            ]
          },
          "metadata": {
            "needs_background": "light"
          }
        }
      ]
    },
    {
      "cell_type": "code",
      "execution_count": null,
      "metadata": {
        "colab": {
          "base_uri": "https://localhost:8080/",
          "height": 360
        },
        "id": "m-upbsBbez2s",
        "outputId": "5ffea125-98ad-4da3-b039-bec158b08942"
      },
      "outputs": [
        {
          "data": {
            "text/plain": [
              "<seaborn.axisgrid.FacetGrid at 0x7f1549d027d0>"
            ]
          },
          "execution_count": 49,
          "metadata": {},
          "output_type": "execute_result"
        },
        {
          "data": {
            "image/png": "[encoded data removed]",
            "text/plain": [
              "<Figure size 720x360 with 2 Axes>"
            ]
          },
          "metadata": {},
          "output_type": "display_data"
        }
      ],
      "source": [
        "sns.displot(data=df, x='cap_words_normalized', kind='hist', bins=30, col='label', facet_kws=dict(sharey=False, sharex=True))"
      ]
    },
    {
      "cell_type": "code",
      "source": [
        "#using web clients / instagram as trump tweets\n",
        "sns.displot(data=df, x='cap_words_normalized', kind='hist', bins=30, col='label', facet_kws=dict(sharey=False, sharex=True))"
      ],
      "metadata": {
        "colab": {
          "base_uri": "https://localhost:8080/",
          "height": 374
        },
        "id": "7hZ0x1XaN97B",
        "outputId": "33ecd7ff-8e46-4701-8b78-350463bca3ab"
      },
      "execution_count": null,
      "outputs": [
        {
          "output_type": "execute_result",
          "data": {
            "text/plain": [
              "<seaborn.axisgrid.FacetGrid at 0x7f2534027750>"
            ]
          },
          "metadata": {},
          "execution_count": 23
        },
        {
          "output_type": "display_data",
          "data": {
            "image/png": "[encoded data removed]",
            "text/plain": [
              "<Figure size 720x360 with 2 Axes>"
            ]
          },
          "metadata": {
            "needs_background": "light"
          }
        }
      ]
    },
    {
      "cell_type": "code",
      "execution_count": null,
      "metadata": {
        "colab": {
          "base_uri": "https://localhost:8080/",
          "height": 360
        },
        "id": "2lVN62dAdt0D",
        "outputId": "1c4dca1d-25bd-4979-aeae-0014615a6a38"
      },
      "outputs": [
        {
          "data": {
            "text/plain": [
              "<seaborn.axisgrid.FacetGrid at 0x7f154a6fd110>"
            ]
          },
          "execution_count": 43,
          "metadata": {},
          "output_type": "execute_result"
        },
        {
          "data": {
            "image/png": "[encoded data removed]",
            "text/plain": [
              "<Figure size 720x360 with 2 Axes>"
            ]
          },
          "metadata": {},
          "output_type": "display_data"
        }
      ],
      "source": [
        "sns.displot(data=df, x='num_!', kind='hist', bins=40, col='label', facet_kws=dict(sharey=False, sharex=True))"
      ]
    },
    {
      "cell_type": "code",
      "execution_count": null,
      "metadata": {
        "colab": {
          "base_uri": "https://localhost:8080/",
          "height": 435
        },
        "id": "NWQk3Vovhc7u",
        "outputId": "35082943-6683-487a-c719-4d7520bbe473"
      },
      "outputs": [
        {
          "name": "stderr",
          "output_type": "stream",
          "text": [
            "<string>:6: RuntimeWarning: Converting input from bool to <class 'numpy.uint8'> for compatibility.\n",
            "<string>:6: RuntimeWarning: Converting input from bool to <class 'numpy.uint8'> for compatibility.\n",
            "<string>:6: RuntimeWarning: Converting input from bool to <class 'numpy.uint8'> for compatibility.\n"
          ]
        },
        {
          "data": {
            "text/plain": [
              "<seaborn.axisgrid.FacetGrid at 0x7f1553a8df90>"
            ]
          },
          "execution_count": 24,
          "metadata": {},
          "output_type": "execute_result"
        },
        {
          "data": {
            "image/png": "[encoded data removed]",
            "text/plain": [
              "<Figure size 720x360 with 2 Axes>"
            ]
          },
          "metadata": {},
          "output_type": "display_data"
        }
      ],
      "source": [
        "sns.displot(data=df, x='!_exists', kind='hist', bins=20, col='label', facet_kws=dict(sharey=False, sharex=True))"
      ]
    },
    {
      "cell_type": "code",
      "source": [
        "#using web clients / instagram as trump tweets\n",
        "sns.displot(data=df, x='!_exists', kind='hist', bins=20, col='label', facet_kws=dict(sharey=False, sharex=True))"
      ],
      "metadata": {
        "colab": {
          "base_uri": "https://localhost:8080/",
          "height": 430
        },
        "id": "vbtrcGptOZ2o",
        "outputId": "46cbbd37-2308-4d71-d060-f0b06b63642a"
      },
      "execution_count": null,
      "outputs": [
        {
          "output_type": "stream",
          "name": "stderr",
          "text": [
            "<string>:6: RuntimeWarning: Converting input from bool to <class 'numpy.uint8'> for compatibility.\n",
            "<string>:6: RuntimeWarning: Converting input from bool to <class 'numpy.uint8'> for compatibility.\n",
            "<string>:6: RuntimeWarning: Converting input from bool to <class 'numpy.uint8'> for compatibility.\n"
          ]
        },
        {
          "output_type": "execute_result",
          "data": {
            "text/plain": [
              "<seaborn.axisgrid.FacetGrid at 0x7f25338eb650>"
            ]
          },
          "metadata": {},
          "execution_count": 24
        },
        {
          "output_type": "display_data",
          "data": {
            "image/png": "[encoded data removed]",
            "text/plain": [
              "<Figure size 720x360 with 2 Axes>"
            ]
          },
          "metadata": {
            "needs_background": "light"
          }
        }
      ]
    },
    {
      "cell_type": "code",
      "execution_count": null,
      "metadata": {
        "colab": {
          "base_uri": "https://localhost:8080/",
          "height": 435
        },
        "id": "tSBWH_7loX3E",
        "outputId": "20844da1-a8fe-4998-b434-67893d07c8ae"
      },
      "outputs": [
        {
          "name": "stderr",
          "output_type": "stream",
          "text": [
            "<string>:6: RuntimeWarning: Converting input from bool to <class 'numpy.uint8'> for compatibility.\n",
            "<string>:6: RuntimeWarning: Converting input from bool to <class 'numpy.uint8'> for compatibility.\n",
            "<string>:6: RuntimeWarning: Converting input from bool to <class 'numpy.uint8'> for compatibility.\n"
          ]
        },
        {
          "data": {
            "text/plain": [
              "<seaborn.axisgrid.FacetGrid at 0x7f155ccf9310>"
            ]
          },
          "execution_count": 8,
          "metadata": {},
          "output_type": "execute_result"
        },
        {
          "data": {
            "image/png": "[encoded data removed]",
            "text/plain": [
              "<Figure size 720x360 with 2 Axes>"
            ]
          },
          "metadata": {},
          "output_type": "display_data"
        }
      ],
      "source": [
        "sns.displot(data=df, x='fake', kind='hist', bins=40, col='label', facet_kws=dict(sharey=False, sharex=True))"
      ]
    },
    {
      "cell_type": "code",
      "execution_count": null,
      "metadata": {
        "colab": {
          "base_uri": "https://localhost:8080/",
          "height": 435
        },
        "id": "Uw5Juu65dl4v",
        "outputId": "82fc0620-3da5-46c9-a790-dce05dfc2a41"
      },
      "outputs": [
        {
          "name": "stderr",
          "output_type": "stream",
          "text": [
            "<string>:6: RuntimeWarning: Converting input from bool to <class 'numpy.uint8'> for compatibility.\n",
            "<string>:6: RuntimeWarning: Converting input from bool to <class 'numpy.uint8'> for compatibility.\n",
            "<string>:6: RuntimeWarning: Converting input from bool to <class 'numpy.uint8'> for compatibility.\n"
          ]
        },
        {
          "data": {
            "text/plain": [
              "<seaborn.axisgrid.FacetGrid at 0x7f154a514a50>"
            ]
          },
          "execution_count": 42,
          "metadata": {},
          "output_type": "execute_result"
        },
        {
          "data": {
            "image/png": "[encoded data removed]",
            "text/plain": [
              "<Figure size 720x360 with 2 Axes>"
            ]
          },
          "metadata": {},
          "output_type": "display_data"
        }
      ],
      "source": [
        "sns.displot(data=df, x='allcaps_exist', kind='hist', bins=40, col='label', facet_kws=dict(sharey=False, sharex=True))"
      ]
    },
    {
      "cell_type": "code",
      "source": [
        "#using web clients / instagram as trump tweets\n",
        "sns.displot(data=df, x='allcaps_exist', kind='hist', bins=40, col='label', facet_kws=dict(sharey=False, sharex=True))"
      ],
      "metadata": {
        "id": "vAiTEvC3Onij",
        "outputId": "f686001f-c7e8-4414-e3ec-c79dac2b81ec",
        "colab": {
          "base_uri": "https://localhost:8080/",
          "height": 430
        }
      },
      "execution_count": null,
      "outputs": [
        {
          "output_type": "stream",
          "name": "stderr",
          "text": [
            "<string>:6: RuntimeWarning: Converting input from bool to <class 'numpy.uint8'> for compatibility.\n",
            "<string>:6: RuntimeWarning: Converting input from bool to <class 'numpy.uint8'> for compatibility.\n",
            "<string>:6: RuntimeWarning: Converting input from bool to <class 'numpy.uint8'> for compatibility.\n"
          ]
        },
        {
          "output_type": "execute_result",
          "data": {
            "text/plain": [
              "<seaborn.axisgrid.FacetGrid at 0x7f25340c4810>"
            ]
          },
          "metadata": {},
          "execution_count": 25
        },
        {
          "output_type": "display_data",
          "data": {
            "image/png": "[encoded data removed]",
            "text/plain": [
              "<Figure size 720x360 with 2 Axes>"
            ]
          },
          "metadata": {
            "needs_background": "light"
          }
        }
      ]
    },
    {
      "cell_type": "code",
      "execution_count": null,
      "metadata": {
        "colab": {
          "base_uri": "https://localhost:8080/",
          "height": 352
        },
        "id": "UVrSIrsqm8yQ",
        "outputId": "226b7799-9899-4334-c4c9-d57913de053f"
      },
      "outputs": [
        {
          "output_type": "display_data",
          "data": {
            "image/png": "[encoded data removed]",
            "text/plain": [
              "<Figure size 720x360 with 2 Axes>"
            ]
          },
          "metadata": {
            "needs_background": "light"
          }
        }
      ],
      "source": [
        "sns.displot(data=df, x='positive_words', kind='hist', bins=40, col='label', facet_kws=dict(sharey=False, sharex=True))\n",
        "plt.xlim((0.025, 0.3))\n",
        "plt.xlabel(\"Positive Words (Normalized)\")\n",
        "plt.ylabel(\"Count\")\n",
        "plt.rcParams.update({'font.size': 16})"
      ]
    },
    {
      "cell_type": "code",
      "execution_count": null,
      "metadata": {
        "colab": {
          "base_uri": "https://localhost:8080/",
          "height": 360
        },
        "id": "w0dfAuuDixVO",
        "outputId": "63b7ded8-9f51-4dc4-839f-61bf48020d77"
      },
      "outputs": [
        {
          "data": {
            "text/plain": [
              "<seaborn.axisgrid.FacetGrid at 0x7f154ad7df50>"
            ]
          },
          "execution_count": 46,
          "metadata": {},
          "output_type": "execute_result"
        },
        {
          "data": {
            "image/png": "[encoded data removed]",
            "text/plain": [
              "<Figure size 720x360 with 2 Axes>"
            ]
          },
          "metadata": {},
          "output_type": "display_data"
        }
      ],
      "source": [
        "sns.displot(data=df, x='num_allcaps', kind='hist', bins=40, col='label', facet_kws=dict(sharey=False, sharex=True))"
      ]
    },
    {
      "cell_type": "code",
      "execution_count": null,
      "metadata": {
        "colab": {
          "base_uri": "https://localhost:8080/",
          "height": 356
        },
        "id": "gfXKqKJ6tgLi",
        "outputId": "1265a2e2-0c07-451b-ddb2-d9c507209f6a"
      },
      "outputs": [
        {
          "output_type": "display_data",
          "data": {
            "image/png": "[encoded data removed]",
            "text/plain": [
              "<Figure size 720x360 with 2 Axes>"
            ]
          },
          "metadata": {
            "needs_background": "light"
          }
        }
      ],
      "source": [
        "sns.displot(data=df, x='time_idx', kind='hist', bins=20, col='label', facet_kws=dict(sharey=False, sharex=True))\n",
        "plt.xlabel(\"Time of the Day (Normalized)\")\n",
        "plt.rcParams.update({'font.size': 16})"
      ]
    },
    {
      "cell_type": "code",
      "execution_count": null,
      "metadata": {
        "colab": {
          "base_uri": "https://localhost:8080/",
          "height": 360
        },
        "id": "6MWKDkGdcH0A",
        "outputId": "d55b39ad-1cd5-47ed-8589-a04daa325aeb"
      },
      "outputs": [
        {
          "data": {
            "text/plain": [
              "<seaborn.axisgrid.FacetGrid at 0x7f1553a51ad0>"
            ]
          },
          "execution_count": 27,
          "metadata": {},
          "output_type": "execute_result"
        },
        {
          "data": {
            "image/png": "[encoded data removed]",
            "text/plain": [
              "<Figure size 720x360 with 2 Axes>"
            ]
          },
          "metadata": {},
          "output_type": "display_data"
        }
      ],
      "source": [
        "sns.displot(data=df, x='num_@', kind='hist', bins=20, col='label', facet_kws=dict(sharey=False, sharex=True))"
      ]
    },
    {
      "cell_type": "code",
      "execution_count": null,
      "metadata": {
        "colab": {
          "base_uri": "https://localhost:8080/",
          "height": 408
        },
        "id": "GCgrMojOfGxM",
        "outputId": "7e4e8432-12dc-40e0-c2cb-2e54b337584f"
      },
      "outputs": [
        {
          "data": {
            "text/plain": [
              "<seaborn.axisgrid.FacetGrid at 0x7f15508b9910>"
            ]
          },
          "execution_count": 31,
          "metadata": {},
          "output_type": "execute_result"
        },
        {
          "data": {
            "image/png": "[encoded data removed]",
            "text/plain": [
              "<Figure size 720x360 with 2 Axes>"
            ]
          },
          "metadata": {},
          "output_type": "display_data"
        }
      ],
      "source": [
        "sns.displot(data=df, x='cap_letters_norm', kind='hist', col='label', facet_kws=dict(sharey=False, sharex=False))"
      ]
    },
    {
      "cell_type": "code",
      "execution_count": null,
      "metadata": {
        "colab": {
          "base_uri": "https://localhost:8080/",
          "height": 408
        },
        "id": "iH7tBPjJd_Xq",
        "outputId": "a3210059-db71-45c6-a06b-873ae2eda950"
      },
      "outputs": [
        {
          "data": {
            "text/plain": [
              "<seaborn.axisgrid.FacetGrid at 0x7f154b7b08d0>"
            ]
          },
          "execution_count": 35,
          "metadata": {},
          "output_type": "execute_result"
        },
        {
          "data": {
            "image/png": "[encoded data removed]",
            "text/plain": [
              "<Figure size 720x360 with 2 Axes>"
            ]
          },
          "metadata": {},
          "output_type": "display_data"
        }
      ],
      "source": [
        "sns.displot(data=df, x='cap_letters', kind='hist', bins=40, col='label', facet_kws=dict(sharey=False, sharex=False))"
      ]
    },
    {
      "cell_type": "code",
      "execution_count": null,
      "metadata": {
        "colab": {
          "base_uri": "https://localhost:8080/",
          "height": 360
        },
        "id": "43IYb5fYdMZr",
        "outputId": "6472ce47-3267-40a7-8813-47cd4ea84012"
      },
      "outputs": [
        {
          "data": {
            "text/plain": [
              "<seaborn.axisgrid.FacetGrid at 0x7f154a5d6290>"
            ]
          },
          "execution_count": 41,
          "metadata": {},
          "output_type": "execute_result"
        },
        {
          "data": {
            "image/png": "[encoded data removed]",
            "text/plain": [
              "<Figure size 720x360 with 2 Axes>"
            ]
          },
          "metadata": {},
          "output_type": "display_data"
        }
      ],
      "source": [
        "sns.displot(data=df, x='count_fake', kind='kde', col='label', facet_kws=dict(sharey=False, sharex=False))"
      ]
    },
    {
      "cell_type": "code",
      "execution_count": null,
      "metadata": {
        "colab": {
          "base_uri": "https://localhost:8080/",
          "height": 360
        },
        "id": "CQg-dQtfhn9E",
        "outputId": "00eb825c-c481-470e-8af9-dc9b30819180"
      },
      "outputs": [
        {
          "data": {
            "text/plain": [
              "<seaborn.axisgrid.FacetGrid at 0x7f154b8b6290>"
            ]
          },
          "execution_count": 40,
          "metadata": {},
          "output_type": "execute_result"
        },
        {
          "data": {
            "image/png": "[encoded data removed]",
            "text/plain": [
              "<Figure size 720x360 with 2 Axes>"
            ]
          },
          "metadata": {},
          "output_type": "display_data"
        }
      ],
      "source": [
        "sns.displot(data=df, x='len', kind='kde', col='label', facet_kws=dict(sharey=False, sharex=False))"
      ]
    }
  ],
  "metadata": {
    "colab": {
      "provenance": []
    },
    "kernelspec": {
      "display_name": "Python 3",
      "name": "python3"
    },
    "language_info": {
      "name": "python"
    },
    "accelerator": "GPU"
  },
  "nbformat": 4,
  "nbformat_minor": 0
}